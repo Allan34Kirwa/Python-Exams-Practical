{
 "cells": [
  {
   "cell_type": "code",
   "execution_count": 1,
   "id": "a86ef8f2",
   "metadata": {
    "_cell_guid": "b1076dfc-b9ad-4769-8c92-a6c4dae69d19",
    "_uuid": "8f2839f25d086af736a60e9eeb907d3b93b6e0e5",
    "execution": {
     "iopub.execute_input": "2024-03-03T10:38:39.615380Z",
     "iopub.status.busy": "2024-03-03T10:38:39.614594Z",
     "iopub.status.idle": "2024-03-03T10:38:40.446897Z",
     "shell.execute_reply": "2024-03-03T10:38:40.445323Z"
    },
    "papermill": {
     "duration": 0.843408,
     "end_time": "2024-03-03T10:38:40.449252",
     "exception": false,
     "start_time": "2024-03-03T10:38:39.605844",
     "status": "completed"
    },
    "tags": []
   },
   "outputs": [
    {
     "name": "stdout",
     "output_type": "stream",
     "text": [
      "/kaggle/input/python-practical-exam/MD_agric_exam-4313.csv\n"
     ]
    }
   ],
   "source": [
    "# This Python 3 environment comes with many helpful analytics libraries installed\n",
    "# It is defined by the kaggle/python Docker image: https://github.com/kaggle/docker-python\n",
    "# For example, here's several helpful packages to load\n",
    "\n",
    "import numpy as np # linear algebra\n",
    "import pandas as pd # data processing, CSV file I/O (e.g. pd.read_csv)\n",
    "\n",
    "# Input data files are available in the read-only \"../input/\" directory\n",
    "# For example, running this (by clicking run or pressing Shift+Enter) will list all files under the input directory\n",
    "\n",
    "import os\n",
    "for dirname, _, filenames in os.walk('/kaggle/input'):\n",
    "    for filename in filenames:\n",
    "        print(os.path.join(dirname, filename))\n",
    "\n",
    "# You can write up to 20GB to the current directory (/kaggle/working/) that gets preserved as output when you create a version using \"Save & Run All\" \n",
    "# You can also write temporary files to /kaggle/temp/, but they won't be saved outside of the current session"
   ]
  },
  {
   "cell_type": "code",
   "execution_count": 2,
   "id": "8c994528",
   "metadata": {
    "execution": {
     "iopub.execute_input": "2024-03-03T10:38:40.464683Z",
     "iopub.status.busy": "2024-03-03T10:38:40.463594Z",
     "iopub.status.idle": "2024-03-03T10:38:40.481631Z",
     "shell.execute_reply": "2024-03-03T10:38:40.480503Z"
    },
    "papermill": {
     "duration": 0.028269,
     "end_time": "2024-03-03T10:38:40.484152",
     "exception": false,
     "start_time": "2024-03-03T10:38:40.455883",
     "status": "completed"
    },
    "tags": []
   },
   "outputs": [],
   "source": [
    "MD_agric_df = pd.read_csv(\"/kaggle/input/python-practical-exam/MD_agric_exam-4313.csv\")"
   ]
  },
  {
   "cell_type": "code",
   "execution_count": 3,
   "id": "56257f3a",
   "metadata": {
    "execution": {
     "iopub.execute_input": "2024-03-03T10:38:40.499457Z",
     "iopub.status.busy": "2024-03-03T10:38:40.498509Z",
     "iopub.status.idle": "2024-03-03T10:38:40.522490Z",
     "shell.execute_reply": "2024-03-03T10:38:40.521400Z"
    },
    "papermill": {
     "duration": 0.034064,
     "end_time": "2024-03-03T10:38:40.524819",
     "exception": false,
     "start_time": "2024-03-03T10:38:40.490755",
     "status": "completed"
    },
    "tags": []
   },
   "outputs": [
    {
     "data": {
      "text/html": [
       "<div>\n",
       "<style scoped>\n",
       "    .dataframe tbody tr th:only-of-type {\n",
       "        vertical-align: middle;\n",
       "    }\n",
       "\n",
       "    .dataframe tbody tr th {\n",
       "        vertical-align: top;\n",
       "    }\n",
       "\n",
       "    .dataframe thead th {\n",
       "        text-align: right;\n",
       "    }\n",
       "</style>\n",
       "<table border=\"1\" class=\"dataframe\">\n",
       "  <thead>\n",
       "    <tr style=\"text-align: right;\">\n",
       "      <th></th>\n",
       "      <th>Field_ID</th>\n",
       "      <th>Elevation</th>\n",
       "      <th>Rainfall</th>\n",
       "      <th>Min_temperature_C</th>\n",
       "      <th>Max_temperature_C</th>\n",
       "      <th>pH</th>\n",
       "      <th>Pollution_level</th>\n",
       "      <th>Plot_size</th>\n",
       "      <th>Annual_yield</th>\n",
       "      <th>Crop_type</th>\n",
       "    </tr>\n",
       "  </thead>\n",
       "  <tbody>\n",
       "    <tr>\n",
       "      <th>0</th>\n",
       "      <td>1162</td>\n",
       "      <td>494.95615</td>\n",
       "      <td>1507.6</td>\n",
       "      <td>-5.4</td>\n",
       "      <td>31.0</td>\n",
       "      <td>6.859436</td>\n",
       "      <td>0.007034</td>\n",
       "      <td>3.6</td>\n",
       "      <td>1.617421</td>\n",
       "      <td>coffee</td>\n",
       "    </tr>\n",
       "    <tr>\n",
       "      <th>1</th>\n",
       "      <td>5108</td>\n",
       "      <td>663.73390</td>\n",
       "      <td>581.0</td>\n",
       "      <td>-4.7</td>\n",
       "      <td>30.9</td>\n",
       "      <td>5.603219</td>\n",
       "      <td>0.289643</td>\n",
       "      <td>4.2</td>\n",
       "      <td>2.532497</td>\n",
       "      <td>potato</td>\n",
       "    </tr>\n",
       "    <tr>\n",
       "      <th>2</th>\n",
       "      <td>3504</td>\n",
       "      <td>396.87990</td>\n",
       "      <td>1715.1</td>\n",
       "      <td>-6.1</td>\n",
       "      <td>31.7</td>\n",
       "      <td>5.774116</td>\n",
       "      <td>0.000409</td>\n",
       "      <td>2.6</td>\n",
       "      <td>1.262207</td>\n",
       "      <td>banana</td>\n",
       "    </tr>\n",
       "    <tr>\n",
       "      <th>3</th>\n",
       "      <td>5351</td>\n",
       "      <td>594.80370</td>\n",
       "      <td>1748.0</td>\n",
       "      <td>-4.3</td>\n",
       "      <td>33.6</td>\n",
       "      <td>6.477415</td>\n",
       "      <td>0.088777</td>\n",
       "      <td>7.9</td>\n",
       "      <td>4.351564</td>\n",
       "      <td>wheat</td>\n",
       "    </tr>\n",
       "    <tr>\n",
       "      <th>4</th>\n",
       "      <td>905</td>\n",
       "      <td>609.49800</td>\n",
       "      <td>1395.8</td>\n",
       "      <td>-4.5</td>\n",
       "      <td>31.3</td>\n",
       "      <td>5.419586</td>\n",
       "      <td>0.050023</td>\n",
       "      <td>10.8</td>\n",
       "      <td>5.034791</td>\n",
       "      <td>cassava</td>\n",
       "    </tr>\n",
       "  </tbody>\n",
       "</table>\n",
       "</div>"
      ],
      "text/plain": [
       "   Field_ID  Elevation  Rainfall  Min_temperature_C  Max_temperature_C  \\\n",
       "0      1162  494.95615    1507.6               -5.4               31.0   \n",
       "1      5108  663.73390     581.0               -4.7               30.9   \n",
       "2      3504  396.87990    1715.1               -6.1               31.7   \n",
       "3      5351  594.80370    1748.0               -4.3               33.6   \n",
       "4       905  609.49800    1395.8               -4.5               31.3   \n",
       "\n",
       "         pH  Pollution_level  Plot_size  Annual_yield Crop_type  \n",
       "0  6.859436         0.007034        3.6      1.617421    coffee  \n",
       "1  5.603219         0.289643        4.2      2.532497    potato  \n",
       "2  5.774116         0.000409        2.6      1.262207    banana  \n",
       "3  6.477415         0.088777        7.9      4.351564     wheat  \n",
       "4  5.419586         0.050023       10.8      5.034791   cassava  "
      ]
     },
     "execution_count": 3,
     "metadata": {},
     "output_type": "execute_result"
    }
   ],
   "source": [
    "MD_agric_df.head()"
   ]
  },
  {
   "cell_type": "markdown",
   "id": "c7206924",
   "metadata": {
    "papermill": {
     "duration": 0.006531,
     "end_time": "2024-03-03T10:38:40.538264",
     "exception": false,
     "start_time": "2024-03-03T10:38:40.531733",
     "status": "completed"
    },
    "tags": []
   },
   "source": [
    "1. Write code to determine the number of `unique crop` types in the dataset?"
   ]
  },
  {
   "cell_type": "code",
   "execution_count": 4,
   "id": "f2337e2f",
   "metadata": {
    "execution": {
     "iopub.execute_input": "2024-03-03T10:38:40.554000Z",
     "iopub.status.busy": "2024-03-03T10:38:40.553588Z",
     "iopub.status.idle": "2024-03-03T10:38:40.564172Z",
     "shell.execute_reply": "2024-03-03T10:38:40.563031Z"
    },
    "papermill": {
     "duration": 0.021144,
     "end_time": "2024-03-03T10:38:40.566132",
     "exception": false,
     "start_time": "2024-03-03T10:38:40.544988",
     "status": "completed"
    },
    "tags": []
   },
   "outputs": [
    {
     "name": "stdout",
     "output_type": "stream",
     "text": [
      "Number of unique crop types: 8\n"
     ]
    }
   ],
   "source": [
    "unique_crop_types = MD_agric_df['Crop_type'].unique()\n",
    "number_of_unique_crop_types = len(unique_crop_types)\n",
    "\n",
    "print(\"Number of unique crop types:\", number_of_unique_crop_types)"
   ]
  },
  {
   "cell_type": "code",
   "execution_count": 5,
   "id": "ccd2df31",
   "metadata": {
    "execution": {
     "iopub.execute_input": "2024-03-03T10:38:40.581708Z",
     "iopub.status.busy": "2024-03-03T10:38:40.580529Z",
     "iopub.status.idle": "2024-03-03T10:38:40.587024Z",
     "shell.execute_reply": "2024-03-03T10:38:40.586298Z"
    },
    "papermill": {
     "duration": 0.016082,
     "end_time": "2024-03-03T10:38:40.588895",
     "exception": false,
     "start_time": "2024-03-03T10:38:40.572813",
     "status": "completed"
    },
    "tags": []
   },
   "outputs": [
    {
     "data": {
      "text/plain": [
       "['coffee', 'potato', 'banana', 'wheat', 'cassava', 'maize', 'tea', 'rice']"
      ]
     },
     "execution_count": 5,
     "metadata": {},
     "output_type": "execute_result"
    }
   ],
   "source": [
    "unique_crop_types = list(MD_agric_df['Crop_type'].unique())\n",
    "unique_crop_types"
   ]
  },
  {
   "cell_type": "markdown",
   "id": "e7854861",
   "metadata": {
    "papermill": {
     "duration": 0.006597,
     "end_time": "2024-03-03T10:38:40.602528",
     "exception": false,
     "start_time": "2024-03-03T10:38:40.595931",
     "status": "completed"
    },
    "tags": []
   },
   "source": [
    "2. Identify the maximum annual yield for \"wheat\" crop type in the dataset (rounded to 2 decimal places)."
   ]
  },
  {
   "cell_type": "code",
   "execution_count": 6,
   "id": "8e4b6783",
   "metadata": {
    "execution": {
     "iopub.execute_input": "2024-03-03T10:38:40.618506Z",
     "iopub.status.busy": "2024-03-03T10:38:40.617908Z",
     "iopub.status.idle": "2024-03-03T10:38:40.632809Z",
     "shell.execute_reply": "2024-03-03T10:38:40.631677Z"
    },
    "papermill": {
     "duration": 0.025786,
     "end_time": "2024-03-03T10:38:40.635093",
     "exception": false,
     "start_time": "2024-03-03T10:38:40.609307",
     "status": "completed"
    },
    "tags": []
   },
   "outputs": [
    {
     "name": "stdout",
     "output_type": "stream",
     "text": [
      "Maximum annual yield for wheat crop type: 8.99\n"
     ]
    }
   ],
   "source": [
    "\n",
    "# Filter the DataFrame for wheat crop type\n",
    "wheat_data = MD_agric_df[MD_agric_df['Crop_type'] == 'wheat']\n",
    "\n",
    "# Find the maximum annual yield for wheat crop type\n",
    "max_annual_yield_wheat = wheat_data['Annual_yield'].max()\n",
    "\n",
    "# Round the result to 2 decimal places\n",
    "max_annual_yield_wheat_rounded = round(max_annual_yield_wheat, 2)\n",
    "\n",
    "print(\"Maximum annual yield for wheat crop type:\", max_annual_yield_wheat_rounded)"
   ]
  },
  {
   "cell_type": "code",
   "execution_count": 7,
   "id": "1d1ea882",
   "metadata": {
    "execution": {
     "iopub.execute_input": "2024-03-03T10:38:40.651855Z",
     "iopub.status.busy": "2024-03-03T10:38:40.651112Z",
     "iopub.status.idle": "2024-03-03T10:38:40.666732Z",
     "shell.execute_reply": "2024-03-03T10:38:40.665686Z"
    },
    "papermill": {
     "duration": 0.027111,
     "end_time": "2024-03-03T10:38:40.669061",
     "exception": false,
     "start_time": "2024-03-03T10:38:40.641950",
     "status": "completed"
    },
    "tags": []
   },
   "outputs": [
    {
     "data": {
      "text/plain": [
       "8.99"
      ]
     },
     "execution_count": 7,
     "metadata": {},
     "output_type": "execute_result"
    }
   ],
   "source": [
    "# Another technique of using groub by and sort\n",
    "max_annual_yield_wheat_rounded = (\n",
    "    round(MD_agric_df[MD_agric_df['Crop_type'] == 'wheat']\n",
    "    .groupby('Crop_type')\n",
    "          .max().sort_values(by='Annual_yield', ascending=False)\n",
    "          .iloc[0]['Annual_yield'], 2)\n",
    ")\n",
    "max_annual_yield_wheat_rounded"
   ]
  },
  {
   "cell_type": "markdown",
   "id": "00e6b905",
   "metadata": {
    "papermill": {
     "duration": 0.006903,
     "end_time": "2024-03-03T10:38:40.683176",
     "exception": false,
     "start_time": "2024-03-03T10:38:40.676273",
     "status": "completed"
    },
    "tags": []
   },
   "source": [
    "3. Find the total rainfall for crop types where the average pollution level is above 0.2."
   ]
  },
  {
   "cell_type": "code",
   "execution_count": 8,
   "id": "0a551637",
   "metadata": {
    "execution": {
     "iopub.execute_input": "2024-03-03T10:38:40.699868Z",
     "iopub.status.busy": "2024-03-03T10:38:40.699329Z",
     "iopub.status.idle": "2024-03-03T10:38:40.711548Z",
     "shell.execute_reply": "2024-03-03T10:38:40.710388Z"
    },
    "papermill": {
     "duration": 0.022706,
     "end_time": "2024-03-03T10:38:40.713508",
     "exception": false,
     "start_time": "2024-03-03T10:38:40.690802",
     "status": "completed"
    },
    "tags": []
   },
   "outputs": [
    {
     "name": "stdout",
     "output_type": "stream",
     "text": [
      "Total rainfall crops with poll level > 0.2: 941959.7\n"
     ]
    }
   ],
   "source": [
    "# Filter the DataFrame for crop types where the average pollution level is above 0.2\n",
    "filtered_data = (\n",
    "    MD_agric_df.groupby('Crop_type')\n",
    "    .filter(lambda x: x['Pollution_level']\n",
    "            .mean() > 0.2)\n",
    ")\n",
    "\n",
    "# Calculate the total rainfall for the filtered crop types\n",
    "total_rainfall_filtered = filtered_data['Rainfall'].sum()\n",
    "\n",
    "# Display my results\n",
    "print(\"Total rainfall crops with poll level > 0.2:\", total_rainfall_filtered)\n"
   ]
  },
  {
   "cell_type": "markdown",
   "id": "0ef24d52",
   "metadata": {
    "papermill": {
     "duration": 0.006834,
     "end_time": "2024-03-03T10:38:40.727352",
     "exception": false,
     "start_time": "2024-03-03T10:38:40.720518",
     "status": "completed"
    },
    "tags": []
   },
   "source": [
    "4.Write a function to calculate the temperature range (Max_temperature_C - Min_temperature_C) for each farmer's field. Then, call the function with the following `Field_ID`: `1458`, `1895`, and `5443`. What are the results of these 3 calls?"
   ]
  },
  {
   "cell_type": "code",
   "execution_count": 9,
   "id": "cdb5f497",
   "metadata": {
    "execution": {
     "iopub.execute_input": "2024-03-03T10:38:40.743546Z",
     "iopub.status.busy": "2024-03-03T10:38:40.743142Z",
     "iopub.status.idle": "2024-03-03T10:38:40.754697Z",
     "shell.execute_reply": "2024-03-03T10:38:40.753261Z"
    },
    "papermill": {
     "duration": 0.02232,
     "end_time": "2024-03-03T10:38:40.756798",
     "exception": false,
     "start_time": "2024-03-03T10:38:40.734478",
     "status": "completed"
    },
    "tags": []
   },
   "outputs": [
    {
     "name": "stdout",
     "output_type": "stream",
     "text": [
      "Temperature ranges for the provided Field_IDs:\n",
      "Field_ID: 1458, Temperature Range: 40.7\n",
      "Field_ID: 1895, Temperature Range: 35.7\n",
      "Field_ID: 5443, Temperature Range: 33.4\n"
     ]
    }
   ],
   "source": [
    "def calculate_temperature_range(df, field_ids):\n",
    "    results = {}\n",
    "    for field_id in field_ids:\n",
    "        field_data = MD_agric_df[MD_agric_df['Field_ID'] == field_id]\n",
    "        if not field_data.empty:\n",
    "            min_temp = field_data['Min_temperature_C'].iloc[0]\n",
    "            max_temp = field_data['Max_temperature_C'].iloc[0]\n",
    "            temperature_range = max_temp - min_temp\n",
    "            results[field_id] = temperature_range\n",
    "        else:\n",
    "            results[field_id] = None\n",
    "    return results\n",
    "\n",
    "# Call the function with the provided Field_IDs\n",
    "field_ids = [1458, 1895, 5443]\n",
    "temperature_ranges = calculate_temperature_range(MD_agric_df, field_ids)\n",
    "\n",
    "print(\"Temperature ranges for the provided Field_IDs:\")\n",
    "for field_id, temp_range in temperature_ranges.items():\n",
    "    print(f\"Field_ID: {field_id}, Temperature Range: {temp_range}\")"
   ]
  },
  {
   "cell_type": "markdown",
   "id": "b5745667",
   "metadata": {
    "papermill": {
     "duration": 0.007214,
     "end_time": "2024-03-03T10:38:40.771526",
     "exception": false,
     "start_time": "2024-03-03T10:38:40.764312",
     "status": "completed"
    },
    "tags": []
   },
   "source": [
    "5. Write code to calculate the total plot size for plots where the pH is less than 5.5."
   ]
  },
  {
   "cell_type": "code",
   "execution_count": 10,
   "id": "771d4511",
   "metadata": {
    "execution": {
     "iopub.execute_input": "2024-03-03T10:38:40.788451Z",
     "iopub.status.busy": "2024-03-03T10:38:40.788050Z",
     "iopub.status.idle": "2024-03-03T10:38:40.801263Z",
     "shell.execute_reply": "2024-03-03T10:38:40.800317Z"
    },
    "papermill": {
     "duration": 0.024387,
     "end_time": "2024-03-03T10:38:40.803403",
     "exception": false,
     "start_time": "2024-03-03T10:38:40.779016",
     "status": "completed"
    },
    "tags": []
   },
   "outputs": [
    {
     "data": {
      "text/html": [
       "<div>\n",
       "<style scoped>\n",
       "    .dataframe tbody tr th:only-of-type {\n",
       "        vertical-align: middle;\n",
       "    }\n",
       "\n",
       "    .dataframe tbody tr th {\n",
       "        vertical-align: top;\n",
       "    }\n",
       "\n",
       "    .dataframe thead th {\n",
       "        text-align: right;\n",
       "    }\n",
       "</style>\n",
       "<table border=\"1\" class=\"dataframe\">\n",
       "  <thead>\n",
       "    <tr style=\"text-align: right;\">\n",
       "      <th></th>\n",
       "      <th>Field_ID</th>\n",
       "      <th>Elevation</th>\n",
       "      <th>Rainfall</th>\n",
       "      <th>Min_temperature_C</th>\n",
       "      <th>Max_temperature_C</th>\n",
       "      <th>pH</th>\n",
       "      <th>Pollution_level</th>\n",
       "      <th>Plot_size</th>\n",
       "      <th>Annual_yield</th>\n",
       "      <th>Crop_type</th>\n",
       "    </tr>\n",
       "  </thead>\n",
       "  <tbody>\n",
       "    <tr>\n",
       "      <th>0</th>\n",
       "      <td>1162</td>\n",
       "      <td>494.95615</td>\n",
       "      <td>1507.6</td>\n",
       "      <td>-5.4</td>\n",
       "      <td>31.0</td>\n",
       "      <td>6.859436</td>\n",
       "      <td>0.007034</td>\n",
       "      <td>3.6</td>\n",
       "      <td>1.617421</td>\n",
       "      <td>coffee</td>\n",
       "    </tr>\n",
       "  </tbody>\n",
       "</table>\n",
       "</div>"
      ],
      "text/plain": [
       "   Field_ID  Elevation  Rainfall  Min_temperature_C  Max_temperature_C  \\\n",
       "0      1162  494.95615    1507.6               -5.4               31.0   \n",
       "\n",
       "         pH  Pollution_level  Plot_size  Annual_yield Crop_type  \n",
       "0  6.859436         0.007034        3.6      1.617421    coffee  "
      ]
     },
     "execution_count": 10,
     "metadata": {},
     "output_type": "execute_result"
    }
   ],
   "source": [
    "MD_agric_df.head(1)"
   ]
  },
  {
   "cell_type": "code",
   "execution_count": 11,
   "id": "473e322d",
   "metadata": {
    "execution": {
     "iopub.execute_input": "2024-03-03T10:38:40.820034Z",
     "iopub.status.busy": "2024-03-03T10:38:40.819408Z",
     "iopub.status.idle": "2024-03-03T10:38:40.826442Z",
     "shell.execute_reply": "2024-03-03T10:38:40.825348Z"
    },
    "papermill": {
     "duration": 0.01771,
     "end_time": "2024-03-03T10:38:40.828492",
     "exception": false,
     "start_time": "2024-03-03T10:38:40.810782",
     "status": "completed"
    },
    "tags": []
   },
   "outputs": [
    {
     "name": "stdout",
     "output_type": "stream",
     "text": [
      "Total plot size for plots with pH less than 5.5: 1731.8999999999999\n"
     ]
    }
   ],
   "source": [
    "# Filter the DataFrame for plots where the pH is less than 5.5\n",
    "filtered_data = MD_agric_df[MD_agric_df['pH'] < 5.5]\n",
    "\n",
    "# Calculate the total plot size for the filtered plots\n",
    "total_plot_size_filtered = filtered_data['Plot_size'].sum()\n",
    "\n",
    "print(\"Total plot size for plots with pH less than 5.5:\", total_plot_size_filtered)\n"
   ]
  },
  {
   "cell_type": "markdown",
   "id": "4fc2e2e1",
   "metadata": {
    "papermill": {
     "duration": 0.008647,
     "end_time": "2024-03-03T10:38:40.844516",
     "exception": false,
     "start_time": "2024-03-03T10:38:40.835869",
     "status": "completed"
    },
    "tags": []
   },
   "source": [
    "6. Using Pandas, create a dataframe that includes entries with a 'Min_temperature_C’< -5 and a 'Max_temperature_C' > 30. How many rows are in the filtered dataset?"
   ]
  },
  {
   "cell_type": "code",
   "execution_count": 12,
   "id": "ea2c81ec",
   "metadata": {
    "execution": {
     "iopub.execute_input": "2024-03-03T10:38:40.861257Z",
     "iopub.status.busy": "2024-03-03T10:38:40.860595Z",
     "iopub.status.idle": "2024-03-03T10:38:40.868167Z",
     "shell.execute_reply": "2024-03-03T10:38:40.866982Z"
    },
    "papermill": {
     "duration": 0.018373,
     "end_time": "2024-03-03T10:38:40.870278",
     "exception": false,
     "start_time": "2024-03-03T10:38:40.851905",
     "status": "completed"
    },
    "tags": []
   },
   "outputs": [
    {
     "name": "stdout",
     "output_type": "stream",
     "text": [
      "Number of rows in the filtered dataset: 319\n"
     ]
    }
   ],
   "source": [
    "# Filter the DataFrame for entries with 'Min_temperature_C' < -5 \n",
    "# and 'Max_temperature_C' > 30\n",
    "filtered_df = (\n",
    "    MD_agric_df[(MD_agric_df['Min_temperature_C'] < -5) \n",
    "                & (MD_agric_df['Max_temperature_C'] > 30)]\n",
    ")\n",
    "\n",
    "# Get the number of rows in the filtered dataset\n",
    "num_rows_filtered = filtered_df.shape[0]\n",
    "\n",
    "print(\"Number of rows in the filtered dataset:\", num_rows_filtered)"
   ]
  },
  {
   "cell_type": "markdown",
   "id": "94853c37",
   "metadata": {
    "papermill": {
     "duration": 0.007229,
     "end_time": "2024-03-03T10:38:40.884967",
     "exception": false,
     "start_time": "2024-03-03T10:38:40.877738",
     "status": "completed"
    },
    "tags": []
   },
   "source": [
    "7. Using Numpy, calculate the standard deviation of the 'Rainfall' for plots where the 'Plot_size' is larger than the median plot size of the dataset (round to 2 decimal places)."
   ]
  },
  {
   "cell_type": "code",
   "execution_count": 13,
   "id": "03dc0a61",
   "metadata": {
    "execution": {
     "iopub.execute_input": "2024-03-03T10:38:40.901669Z",
     "iopub.status.busy": "2024-03-03T10:38:40.901062Z",
     "iopub.status.idle": "2024-03-03T10:38:40.910231Z",
     "shell.execute_reply": "2024-03-03T10:38:40.909089Z"
    },
    "papermill": {
     "duration": 0.019918,
     "end_time": "2024-03-03T10:38:40.912271",
     "exception": false,
     "start_time": "2024-03-03T10:38:40.892353",
     "status": "completed"
    },
    "tags": []
   },
   "outputs": [
    {
     "name": "stdout",
     "output_type": "stream",
     "text": [
      "Standard deviation of Rainfall for plots with Plot_size larger than median: 469.62\n"
     ]
    }
   ],
   "source": [
    "import numpy as np\n",
    "\n",
    "# Calculate the median plot size of the dataset\n",
    "median_plot_size = np.median(MD_agric_df['Plot_size'])\n",
    "\n",
    "# Filter the DataFrame for plots where the 'Plot_size' is larger than the median plot size\n",
    "filtered_data = MD_agric_df[MD_agric_df['Plot_size'] > median_plot_size]\n",
    "\n",
    "# Calculate the standard deviation of the 'Rainfall' for the filtered plots\n",
    "std_dev_rainfall = np.std(filtered_data['Rainfall'])\n",
    "\n",
    "# Round the result to 2 decimal places\n",
    "std_dev_rainfall_rounded = round(std_dev_rainfall, 2)\n",
    "\n",
    "print(\"Standard deviation of Rainfall for plots with Plot_size larger than median:\", std_dev_rainfall_rounded)\n"
   ]
  },
  {
   "cell_type": "markdown",
   "id": "739021af",
   "metadata": {
    "papermill": {
     "duration": 0.007652,
     "end_time": "2024-03-03T10:38:40.927382",
     "exception": false,
     "start_time": "2024-03-03T10:38:40.919730",
     "status": "completed"
    },
    "tags": []
   },
   "source": [
    "8. If you concatenate the first three digits of the most common ‘Max_temperature_C’ with the last three letters of the least common 'Crop_type', what string do you get?\n",
    "Note: Use the first mode if there are multiple modes"
   ]
  },
  {
   "cell_type": "code",
   "execution_count": 14,
   "id": "53ff8c5b",
   "metadata": {
    "execution": {
     "iopub.execute_input": "2024-03-03T10:38:40.944684Z",
     "iopub.status.busy": "2024-03-03T10:38:40.943513Z",
     "iopub.status.idle": "2024-03-03T10:38:40.956459Z",
     "shell.execute_reply": "2024-03-03T10:38:40.955410Z"
    },
    "papermill": {
     "duration": 0.023699,
     "end_time": "2024-03-03T10:38:40.958573",
     "exception": false,
     "start_time": "2024-03-03T10:38:40.934874",
     "status": "completed"
    },
    "tags": []
   },
   "outputs": [
    {
     "name": "stdout",
     "output_type": "stream",
     "text": [
      "Result string: 30.ice\n"
     ]
    }
   ],
   "source": [
    "import pandas as pd\n",
    "\n",
    "# Find the mode of 'Max_temperature_C' (taking the first mode if there are multiple modes)\n",
    "max_temp_mode = MD_agric_df['Max_temperature_C'].mode().iloc[0]\n",
    "\n",
    "# Find the least common 'Crop_type'\n",
    "crop_type_least_common = MD_agric_df['Crop_type'].value_counts().idxmin()\n",
    "\n",
    "# Concatenate the first three digits of the most common 'Max_temperature_C' with the last three letters of the least common 'Crop_type'\n",
    "result_string = str(max_temp_mode)[:3] + crop_type_least_common[-3:]\n",
    "\n",
    "print(\"Result string:\", result_string)"
   ]
  },
  {
   "cell_type": "markdown",
   "id": "51e99f9a",
   "metadata": {
    "papermill": {
     "duration": 0.007357,
     "end_time": "2024-03-03T10:38:40.973530",
     "exception": false,
     "start_time": "2024-03-03T10:38:40.966173",
     "status": "completed"
    },
    "tags": []
   },
   "source": [
    "9. Write Python code to create a violin plot visualising the distribution of 'Annual_yield' across different 'Elevation' ranges. Use the provided elevation range categories (Low: < 300m, Medium: 300m - 600m, High: > 600m) to categorise the data before plotting.  Examine the violin plot displaying the distribution of 'Annual Yield' across three elevation categories (Low, Medium, High). What insight does the violin plot provide regarding the relationship between elevation ranges and annual yield distribution?"
   ]
  },
  {
   "cell_type": "code",
   "execution_count": 15,
   "id": "fb10a891",
   "metadata": {
    "execution": {
     "iopub.execute_input": "2024-03-03T10:38:40.991097Z",
     "iopub.status.busy": "2024-03-03T10:38:40.990710Z",
     "iopub.status.idle": "2024-03-03T10:38:42.729819Z",
     "shell.execute_reply": "2024-03-03T10:38:42.728786Z"
    },
    "papermill": {
     "duration": 1.750703,
     "end_time": "2024-03-03T10:38:42.732121",
     "exception": false,
     "start_time": "2024-03-03T10:38:40.981418",
     "status": "completed"
    },
    "tags": []
   },
   "outputs": [
    {
     "data": {
      "image/png": "[encoded data removed]",
      "text/plain": [
       "<Figure size 1000x600 with 1 Axes>"
      ]
     },
     "metadata": {},
     "output_type": "display_data"
    }
   ],
   "source": [
    "import seaborn as sns\n",
    "import matplotlib.pyplot as plt\n",
    "\n",
    "# Categorize elevation ranges\n",
    "def categorize_elevation(elevation):\n",
    "    if elevation < 300:\n",
    "        return 'Low'\n",
    "    elif elevation >= 300 and elevation <= 600:\n",
    "        return 'Medium'\n",
    "    else:\n",
    "        return 'High'\n",
    "\n",
    "# Apply categorization to create a new column 'Elevation_Category'\n",
    "MD_agric_df['Elevation_Category'] = MD_agric_df['Elevation'].apply(categorize_elevation)\n",
    "\n",
    "# Create violin plot\n",
    "plt.figure(figsize=(10, 6))\n",
    "sns.violinplot(x='Elevation_Category', y='Annual_yield', data=MD_agric_df)\n",
    "plt.title('Distribution of Annual Yield across Elevation Ranges')\n",
    "plt.xlabel('Elevation Range')\n",
    "plt.ylabel('Annual Yield')\n",
    "plt.show()"
   ]
  },
  {
   "cell_type": "markdown",
   "id": "c30054fa",
   "metadata": {
    "papermill": {
     "duration": 0.008299,
     "end_time": "2024-03-03T10:38:42.749812",
     "exception": false,
     "start_time": "2024-03-03T10:38:42.741513",
     "status": "completed"
    },
    "tags": []
   },
   "source": [
    "10. Assuming each 'Crop_type' contributes an integer value equal to its length (e.g., 'wheat' contributes 5), write a recursive function to sum the integer values for each unique crop type in the dataset. What is the sum?"
   ]
  },
  {
   "cell_type": "code",
   "execution_count": 16,
   "id": "d3fc81ee",
   "metadata": {
    "execution": {
     "iopub.execute_input": "2024-03-03T10:38:42.768452Z",
     "iopub.status.busy": "2024-03-03T10:38:42.768029Z",
     "iopub.status.idle": "2024-03-03T10:38:42.775186Z",
     "shell.execute_reply": "2024-03-03T10:38:42.773962Z"
    },
    "papermill": {
     "duration": 0.019021,
     "end_time": "2024-03-03T10:38:42.777252",
     "exception": false,
     "start_time": "2024-03-03T10:38:42.758231",
     "status": "completed"
    },
    "tags": []
   },
   "outputs": [
    {
     "name": "stdout",
     "output_type": "stream",
     "text": [
      "The sum of integer values for each unique crop type: 42\n"
     ]
    }
   ],
   "source": [
    "def crop_type_sum(data):\n",
    "    unique_crops = set(data['Crop_type'].unique())\n",
    "    total_sum = sum(len(crop) for crop in unique_crops)\n",
    "    return total_sum\n",
    "\n",
    "# Calculate the sum\n",
    "total_sum = crop_type_sum(MD_agric_df)\n",
    "\n",
    "print(\"The sum of integer values for each unique crop type:\", total_sum)\n"
   ]
  },
  {
   "cell_type": "markdown",
   "id": "7ef0963a",
   "metadata": {
    "papermill": {
     "duration": 0.008236,
     "end_time": "2024-03-03T10:38:42.794113",
     "exception": false,
     "start_time": "2024-03-03T10:38:42.785877",
     "status": "completed"
    },
    "tags": []
   },
   "source": [
    "11. Write Python code to perform a t-test comparing the average 'Annual_yield' between 'coffee' and 'banana' crop types using scipy.stats. What is the p-value, rounded to three decimal places?"
   ]
  },
  {
   "cell_type": "code",
   "execution_count": 17,
   "id": "f4dddfef",
   "metadata": {
    "execution": {
     "iopub.execute_input": "2024-03-03T10:38:42.813743Z",
     "iopub.status.busy": "2024-03-03T10:38:42.813140Z",
     "iopub.status.idle": "2024-03-03T10:38:42.823869Z",
     "shell.execute_reply": "2024-03-03T10:38:42.822717Z"
    },
    "papermill": {
     "duration": 0.022956,
     "end_time": "2024-03-03T10:38:42.826041",
     "exception": false,
     "start_time": "2024-03-03T10:38:42.803085",
     "status": "completed"
    },
    "tags": []
   },
   "outputs": [
    {
     "name": "stdout",
     "output_type": "stream",
     "text": [
      "The p-value for the t-test comparing the average 'Annual_yield' between 'coffee' and 'banana' crop types: 0.598\n"
     ]
    }
   ],
   "source": [
    "from scipy.stats import ttest_ind\n",
    "\n",
    "# Filter the data for 'coffee' and 'banana' crop types\n",
    "coffee_yield = MD_agric_df[MD_agric_df['Crop_type'] == 'coffee']['Annual_yield']\n",
    "banana_yield = MD_agric_df[MD_agric_df['Crop_type'] == 'banana']['Annual_yield']\n",
    "\n",
    "# Perform t-test\n",
    "t_statistic, p_value = ttest_ind(coffee_yield, banana_yield)\n",
    "\n",
    "# Round the p-value to three decimal places\n",
    "p_value_rounded = round(p_value, 3)\n",
    "\n",
    "print(\"The p-value for the t-test comparing the average 'Annual_yield' between 'coffee' and 'banana' crop types:\", p_value_rounded)\n"
   ]
  },
  {
   "cell_type": "code",
   "execution_count": null,
   "id": "da41782e",
   "metadata": {
    "papermill": {
     "duration": 0.008574,
     "end_time": "2024-03-03T10:38:42.843384",
     "exception": false,
     "start_time": "2024-03-03T10:38:42.834810",
     "status": "completed"
    },
    "tags": []
   },
   "outputs": [],
   "source": []
  }
 ],
 "metadata": {
  "kaggle": {
   "accelerator": "none",
   "dataSources": [
    {
     "datasetId": 4530333,
     "sourceId": 7749195,
     "sourceType": "datasetVersion"
    }
   ],
   "dockerImageVersionId": 30664,
   "isGpuEnabled": false,
   "isInternetEnabled": true,
   "language": "python",
   "sourceType": "notebook"
  },
  "kernelspec": {
   "display_name": "Python 3",
   "language": "python",
   "name": "python3"
  },
  "language_info": {
   "codemirror_mode": {
    "name": "ipython",
    "version": 3
   },
   "file_extension": ".py",
   "mimetype": "text/x-python",
   "name": "python",
   "nbconvert_exporter": "python",
   "pygments_lexer": "ipython3",
   "version": "3.10.13"
  },
  "papermill": {
   "default_parameters": {},
   "duration": 6.359939,
   "end_time": "2024-03-03T10:38:43.372869",
   "environment_variables": {},
   "exception": null,
   "input_path": "__notebook__.ipynb",
   "output_path": "__notebook__.ipynb",
   "parameters": {},
   "start_time": "2024-03-03T10:38:37.012930",
   "version": "2.5.0"
  }
 },
 "nbformat": 4,
 "nbformat_minor": 5
}
